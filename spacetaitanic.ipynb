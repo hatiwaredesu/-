{
  "nbformat": 4,
  "nbformat_minor": 0,
  "metadata": {
    "colab": {
      "provenance": []
    },
    "kernelspec": {
      "name": "python3",
      "display_name": "Python 3"
    },
    "language_info": {
      "name": "python"
    }
  },
  "cells": [
    {
      "cell_type": "code",
      "execution_count": 1,
      "metadata": {
        "colab": {
          "base_uri": "https://localhost:8080/"
        },
        "id": "6kJeVFz1d6g4",
        "outputId": "9d7b9256-3c9f-480e-beb6-8b8c94c0ce89"
      },
      "outputs": [
        {
          "output_type": "stream",
          "name": "stdout",
          "text": [
            "Mounted at /content/drive/\n"
          ]
        }
      ],
      "source": [
        "from google.colab import drive\n",
        "drive.mount('/content/drive/')"
      ]
    },
    {
      "cell_type": "code",
      "source": [
        "%cd /content/drive/MyDrive/detascience/space taitanic/"
      ],
      "metadata": {
        "colab": {
          "base_uri": "https://localhost:8080/"
        },
        "id": "H-3dZN1GeVCw",
        "outputId": "8d0f4cb9-6d75-40a4-f2f4-ccc5b041dc37"
      },
      "execution_count": 2,
      "outputs": [
        {
          "output_type": "stream",
          "name": "stdout",
          "text": [
            "/content/drive/MyDrive/detascience/space taitanic\n"
          ]
        }
      ]
    },
    {
      "cell_type": "code",
      "source": [
        "!pip install optuna\n",
        "import pandas as pd\n",
        "import numpy as np\n",
        "import matplotlib.pyplot as plt\n",
        "import seaborn as sns\n",
        "sns.set()\n",
        "import optuna"
      ],
      "metadata": {
        "id": "P7U2Etz9eqww"
      },
      "execution_count": null,
      "outputs": []
    },
    {
      "cell_type": "code",
      "source": [
        "dir_path = '/content/drive/MyDrive/detascience/space taitanic/'"
      ],
      "metadata": {
        "id": "ShwZMn4Ieqtc"
      },
      "execution_count": 4,
      "outputs": []
    },
    {
      "cell_type": "code",
      "source": [
        "from google.colab import drive\n",
        "drive.mount('/content/drive')"
      ],
      "metadata": {
        "colab": {
          "base_uri": "https://localhost:8080/"
        },
        "id": "XL7UAzP1eqq_",
        "outputId": "0d97bda3-1452-4af2-ab72-3d3763a7f585"
      },
      "execution_count": 5,
      "outputs": [
        {
          "output_type": "stream",
          "name": "stdout",
          "text": [
            "Drive already mounted at /content/drive; to attempt to forcibly remount, call drive.mount(\"/content/drive\", force_remount=True).\n"
          ]
        }
      ]
    },
    {
      "cell_type": "code",
      "source": [
        "train = pd.read_csv(dir_path + 'train.csv')\n",
        "test = pd.read_csv(dir_path + 'test.csv')"
      ],
      "metadata": {
        "id": "-Se6Q1UXeqoQ"
      },
      "execution_count": 6,
      "outputs": []
    },
    {
      "cell_type": "code",
      "source": [
        "train['WhatIsData'] = 'train'\n",
        "test['WhatIsData'] = 'test'"
      ],
      "metadata": {
        "id": "nIVYAQKkeql0"
      },
      "execution_count": 7,
      "outputs": []
    },
    {
      "cell_type": "code",
      "source": [
        "p = test['PassengerId']"
      ],
      "metadata": {
        "id": "VCuZveDKRnEt"
      },
      "execution_count": 8,
      "outputs": []
    },
    {
      "cell_type": "code",
      "source": [
        "df = pd.concat([train,test],axis=0)"
      ],
      "metadata": {
        "id": "RhPNgMG4eqjO"
      },
      "execution_count": 9,
      "outputs": []
    },
    {
      "cell_type": "code",
      "source": [
        "df = df.reset_index(drop=True)"
      ],
      "metadata": {
        "id": "303jo2pKSHRy"
      },
      "execution_count": 10,
      "outputs": []
    },
    {
      "cell_type": "code",
      "source": [
        "df.tail()"
      ],
      "metadata": {
        "id": "6cpZYJXlRPVO"
      },
      "execution_count": null,
      "outputs": []
    },
    {
      "cell_type": "code",
      "source": [
        "df.isnull().sum()"
      ],
      "metadata": {
        "id": "Nsd-x1leeqg1"
      },
      "execution_count": null,
      "outputs": []
    },
    {
      "cell_type": "code",
      "source": [
        "sns.countplot(df['HomePlanet'],data=df)"
      ],
      "metadata": {
        "id": "edDnA1TIeqeS"
      },
      "execution_count": null,
      "outputs": []
    },
    {
      "cell_type": "code",
      "source": [
        "df['HomePlanet'] = df['HomePlanet'].fillna('Earth')"
      ],
      "metadata": {
        "id": "j98K4iwweqbw"
      },
      "execution_count": null,
      "outputs": []
    },
    {
      "cell_type": "code",
      "source": [
        "df.isnull().sum()"
      ],
      "metadata": {
        "id": "xVbZCf9KeqZf"
      },
      "execution_count": null,
      "outputs": []
    },
    {
      "cell_type": "code",
      "source": [
        "sns.countplot(df['CryoSleep'],data=df)"
      ],
      "metadata": {
        "id": "-xSO-pIQeqWu"
      },
      "execution_count": null,
      "outputs": []
    },
    {
      "cell_type": "code",
      "source": [
        "df['CryoSleep'] = df['CryoSleep'].fillna('False')"
      ],
      "metadata": {
        "id": "TS3_W1zNeqUU"
      },
      "execution_count": 16,
      "outputs": []
    },
    {
      "cell_type": "code",
      "source": [
        "df['CryoSleep'] = df['CryoSleep'].astype(bool)"
      ],
      "metadata": {
        "id": "v3LjWlJZkB5I"
      },
      "execution_count": 17,
      "outputs": []
    },
    {
      "cell_type": "code",
      "source": [
        "df.isnull().sum()"
      ],
      "metadata": {
        "id": "1keETBCzeqR2"
      },
      "execution_count": null,
      "outputs": []
    },
    {
      "cell_type": "code",
      "source": [
        "df['Cabin1'] = df['Cabin'].str.split('/',expand=True)[0]\n",
        "df['Cabin2'] = df['Cabin'].str.split('/',expand=True)[1]\n",
        "df['Cabin3'] = df['Cabin'].str.split('/',expand=True)[2]"
      ],
      "metadata": {
        "id": "VoITvYM2eqPb"
      },
      "execution_count": 19,
      "outputs": []
    },
    {
      "cell_type": "code",
      "source": [
        "sns.countplot(df['Cabin1'],data=df)"
      ],
      "metadata": {
        "id": "bzK5h1rFepOT"
      },
      "execution_count": null,
      "outputs": []
    },
    {
      "cell_type": "code",
      "source": [
        "df['Cabin1'] = df['Cabin1'].fillna('F')"
      ],
      "metadata": {
        "id": "vDHEQ4bKkxFv"
      },
      "execution_count": 21,
      "outputs": []
    },
    {
      "cell_type": "code",
      "source": [
        "df['Cabin2'].value_counts()"
      ],
      "metadata": {
        "id": "3MDX_a_1mCCo"
      },
      "execution_count": null,
      "outputs": []
    },
    {
      "cell_type": "code",
      "source": [
        "df['Cabin2'] = df['Cabin2'].fillna(2000)"
      ],
      "metadata": {
        "id": "aJSrEJ1IujQj"
      },
      "execution_count": 23,
      "outputs": []
    },
    {
      "cell_type": "code",
      "source": [
        "df['Cabin2'] = df['Cabin2'].astype(int)"
      ],
      "metadata": {
        "id": "0TgCXMAbuYEH"
      },
      "execution_count": 24,
      "outputs": []
    },
    {
      "cell_type": "code",
      "source": [
        "plt.figure(figsize=(16,9))\n",
        "plt.hist(df['Cabin2'],bins=350,color='blue')"
      ],
      "metadata": {
        "id": "yILjHjo4oeei"
      },
      "execution_count": null,
      "outputs": []
    },
    {
      "cell_type": "code",
      "source": [
        "df.loc[(0<=df['Cabin2'])&(df['Cabin2']<350),'Cabin2'] = 1\n",
        "df.loc[(350<=df['Cabin2'])&(df['Cabin2']<600),'Cabin2'] = 2\n",
        "df.loc[(600<=df['Cabin2'])&(df['Cabin2']<1500),'Cabin2'] = 3\n",
        "df.loc[(1500<=df['Cabin2'])&(df['Cabin2']<2000),'Cabin2'] = 4"
      ],
      "metadata": {
        "id": "-yf8czVWof76"
      },
      "execution_count": 26,
      "outputs": []
    },
    {
      "cell_type": "code",
      "source": [
        "df['Cabin2'].value_counts()"
      ],
      "metadata": {
        "colab": {
          "base_uri": "https://localhost:8080/"
        },
        "id": "z4vThYHhtF8u",
        "outputId": "91096726-def1-46c6-804c-ea4bc1bebc73"
      },
      "execution_count": 27,
      "outputs": [
        {
          "output_type": "execute_result",
          "data": {
            "text/plain": [
              "1       5776\n",
              "3       4352\n",
              "2       1729\n",
              "4        814\n",
              "2000     299\n",
              "Name: Cabin2, dtype: int64"
            ]
          },
          "metadata": {},
          "execution_count": 27
        }
      ]
    },
    {
      "cell_type": "code",
      "source": [
        "df.loc[df['Cabin2']==2000,'Cabin2']=1"
      ],
      "metadata": {
        "id": "TUQ5xRgzmK9B"
      },
      "execution_count": 28,
      "outputs": []
    },
    {
      "cell_type": "code",
      "source": [
        "plt.figure(figsize=(16,9))\n",
        "sns.countplot(df['Cabin2'],hue=df['Transported'])"
      ],
      "metadata": {
        "id": "J3yZA90KmksS"
      },
      "execution_count": null,
      "outputs": []
    },
    {
      "cell_type": "code",
      "source": [
        "plt.figure(figsize=(16,9))\n",
        "sns.countplot(df['Cabin3'])"
      ],
      "metadata": {
        "id": "3Pq-uK5T06WZ"
      },
      "execution_count": null,
      "outputs": []
    },
    {
      "cell_type": "code",
      "source": [
        "df['Cabin3'].value_counts()"
      ],
      "metadata": {
        "colab": {
          "base_uri": "https://localhost:8080/"
        },
        "id": "sEzVRket1bSv",
        "outputId": "8f3713e7-8c93-484e-da93-573e9a81bb07"
      },
      "execution_count": 31,
      "outputs": [
        {
          "output_type": "execute_result",
          "data": {
            "text/plain": [
              "S    6381\n",
              "P    6290\n",
              "Name: Cabin3, dtype: int64"
            ]
          },
          "metadata": {},
          "execution_count": 31
        }
      ]
    },
    {
      "cell_type": "code",
      "source": [
        "df.head()"
      ],
      "metadata": {
        "id": "5JOenuoR1z3V"
      },
      "execution_count": null,
      "outputs": []
    },
    {
      "cell_type": "code",
      "source": [
        "df['Cabin3'] = df['Cabin3'].fillna('S')"
      ],
      "metadata": {
        "id": "J4r6QOu816qC"
      },
      "execution_count": 33,
      "outputs": []
    },
    {
      "cell_type": "code",
      "source": [
        "df.isnull().sum()"
      ],
      "metadata": {
        "colab": {
          "base_uri": "https://localhost:8080/"
        },
        "id": "JFmhEIC92g7-",
        "outputId": "3a53cf02-10cb-4c2b-f44f-af9bc237e270"
      },
      "execution_count": 34,
      "outputs": [
        {
          "output_type": "execute_result",
          "data": {
            "text/plain": [
              "PassengerId        0\n",
              "HomePlanet       288\n",
              "CryoSleep          0\n",
              "Cabin            299\n",
              "Destination      274\n",
              "Age              270\n",
              "VIP              296\n",
              "RoomService      263\n",
              "FoodCourt        289\n",
              "ShoppingMall     306\n",
              "Spa              284\n",
              "VRDeck           268\n",
              "Name             294\n",
              "Transported     4277\n",
              "WhatIsData         0\n",
              "Cabin1             0\n",
              "Cabin2             0\n",
              "Cabin3             0\n",
              "dtype: int64"
            ]
          },
          "metadata": {},
          "execution_count": 34
        }
      ]
    },
    {
      "cell_type": "code",
      "source": [
        "plt.figure(figsize=(16,9))\n",
        "sns.countplot(df['Destination'])"
      ],
      "metadata": {
        "id": "aYUwGrSs2jaE"
      },
      "execution_count": null,
      "outputs": []
    },
    {
      "cell_type": "code",
      "source": [
        "df['Destination'] = df['Destination'].fillna('TRAPPIST-1e')"
      ],
      "metadata": {
        "id": "SzMprY-s2vej"
      },
      "execution_count": null,
      "outputs": []
    },
    {
      "cell_type": "code",
      "source": [
        "plt.figure(figsize=(16,9))\n",
        "plt.hist(df['Age'],bins=10,color='blue')"
      ],
      "metadata": {
        "colab": {
          "base_uri": "https://localhost:8080/",
          "height": 612
        },
        "id": "M4SkRmSX2-l0",
        "outputId": "cfcbf975-543e-413d-edb9-dec5954576cc"
      },
      "execution_count": 36,
      "outputs": [
        {
          "output_type": "execute_result",
          "data": {
            "text/plain": [
              "(array([ 847.,  956., 3207., 2933., 2000., 1346.,  773.,  439.,  153.,\n",
              "          46.]),\n",
              " array([ 0. ,  7.9, 15.8, 23.7, 31.6, 39.5, 47.4, 55.3, 63.2, 71.1, 79. ]),\n",
              " <BarContainer object of 10 artists>)"
            ]
          },
          "metadata": {},
          "execution_count": 36
        },
        {
          "output_type": "display_data",
          "data": {
            "text/plain": [
              "<Figure size 1152x648 with 1 Axes>"
            ],
            "image/png": "[encoded data removed]"
          },
          "metadata": {}
        }
      ]
    },
    {
      "cell_type": "code",
      "source": [
        "df['Age'] = df['Age'].fillna(100)"
      ],
      "metadata": {
        "id": "eFsuv3nU2-iX"
      },
      "execution_count": 37,
      "outputs": []
    },
    {
      "cell_type": "code",
      "source": [
        "df['Age'] = df['Age'].astype(int)"
      ],
      "metadata": {
        "id": "yoI8KFIk2-fq"
      },
      "execution_count": 38,
      "outputs": []
    },
    {
      "cell_type": "code",
      "source": [
        "df.loc[(0<=df['Age'])&(df['Age']<10),'Age'] = 1\n",
        "df.loc[(10<=df['Age'])&(df['Age']<20),'Age'] = 2\n",
        "df.loc[(20<=df['Age'])&(df['Age']<30),'Age'] = 3\n",
        "df.loc[(30<=df['Age'])&(df['Age']<40),'Age'] = 4\n",
        "df.loc[(40<=df['Age'])&(df['Age']<50),'Age'] = 5\n",
        "df.loc[(50<=df['Age'])&(df['Age']<60),'Age'] = 6\n",
        "df.loc[(60<=df['Age'])&(df['Age']<70),'Age'] = 7\n",
        "df.loc[(70<=df['Age'])&(df['Age']<80),'Age'] = 8\n",
        "df.loc[(80<=df['Age'])&(df['Age']<101),'Age'] = 9"
      ],
      "metadata": {
        "id": "pwd0_PBA2-dS"
      },
      "execution_count": 39,
      "outputs": []
    },
    {
      "cell_type": "code",
      "source": [
        "plt.figure(figsize=(16,9))\n",
        "sns.countplot(df['Age'],hue=df['Transported'])"
      ],
      "metadata": {
        "id": "zbAeuU1g2-ai"
      },
      "execution_count": null,
      "outputs": []
    },
    {
      "cell_type": "code",
      "source": [
        "df.loc[df['Age']==9,'Age'] = 3"
      ],
      "metadata": {
        "id": "_g4DWHkq2-Vc"
      },
      "execution_count": null,
      "outputs": []
    },
    {
      "cell_type": "code",
      "source": [
        "df.isnull().sum()"
      ],
      "metadata": {
        "id": "oYJyIbNd2-TI"
      },
      "execution_count": null,
      "outputs": []
    },
    {
      "cell_type": "code",
      "source": [
        "plt.figure(figsize=(16,9))\n",
        "sns.countplot(df['VIP'],hue=df['Transported'])"
      ],
      "metadata": {
        "id": "iasZOgDC2-QX"
      },
      "execution_count": null,
      "outputs": []
    },
    {
      "cell_type": "code",
      "source": [
        "df['VIP'] = df['VIP'].fillna('False')"
      ],
      "metadata": {
        "id": "Yhc7R70A2-OT"
      },
      "execution_count": 42,
      "outputs": []
    },
    {
      "cell_type": "code",
      "source": [
        "df['VIP'] = df['VIP'].astype(bool)"
      ],
      "metadata": {
        "id": "j6YGTsdu7N-p"
      },
      "execution_count": 43,
      "outputs": []
    },
    {
      "cell_type": "code",
      "source": [
        "df.isnull().sum()"
      ],
      "metadata": {
        "colab": {
          "base_uri": "https://localhost:8080/"
        },
        "id": "38QATBMn7a_D",
        "outputId": "d514fba6-6e67-4ea1-f7c5-4e2e9f917a9e"
      },
      "execution_count": 44,
      "outputs": [
        {
          "output_type": "execute_result",
          "data": {
            "text/plain": [
              "PassengerId        0\n",
              "HomePlanet       288\n",
              "CryoSleep          0\n",
              "Cabin            299\n",
              "Destination      274\n",
              "Age                0\n",
              "VIP                0\n",
              "RoomService      263\n",
              "FoodCourt        289\n",
              "ShoppingMall     306\n",
              "Spa              284\n",
              "VRDeck           268\n",
              "Name             294\n",
              "Transported     4277\n",
              "WhatIsData         0\n",
              "Cabin1             0\n",
              "Cabin2             0\n",
              "Cabin3             0\n",
              "dtype: int64"
            ]
          },
          "metadata": {},
          "execution_count": 44
        }
      ]
    },
    {
      "cell_type": "code",
      "source": [
        "df['RoomService'] = df['RoomService'].fillna(df['RoomService'].median())\n",
        "df['FoodCourt'] = df['FoodCourt'].fillna(df['FoodCourt'].median())\n",
        "df['ShoppingMall'] = df['ShoppingMall'].fillna(df['ShoppingMall'].median())\n",
        "df['Spa'] = df['Spa'].fillna(df['Spa'].median())\n",
        "df['VRDeck'] = df['VRDeck'].fillna(df['VRDeck'].median())"
      ],
      "metadata": {
        "id": "3avd0m1J7dDd"
      },
      "execution_count": 45,
      "outputs": []
    },
    {
      "cell_type": "code",
      "source": [
        "df['RoomService'] = df['RoomService'].astype(int)\n",
        "df['FoodCourt'] = df['FoodCourt'].astype(int)\n",
        "df['ShoppingMall'] = df['ShoppingMall'].astype(int)\n",
        "df['Spa'] = df['Spa'].astype(int)\n",
        "df['VRDeck'] = df['VRDeck'].astype(int)"
      ],
      "metadata": {
        "id": "N-tlbj37dguw"
      },
      "execution_count": 46,
      "outputs": []
    },
    {
      "cell_type": "code",
      "source": [
        "df['Pay'] = df['RoomService'] + df['FoodCourt'] + df['ShoppingMall'] + df['Spa'] + df['VRDeck']"
      ],
      "metadata": {
        "id": "CtJAvKLgIJ5K"
      },
      "execution_count": 47,
      "outputs": []
    },
    {
      "cell_type": "code",
      "source": [
        "df.tail()"
      ],
      "metadata": {
        "colab": {
          "base_uri": "https://localhost:8080/",
          "height": 357
        },
        "id": "NiQQxRvULG_2",
        "outputId": "6cb0b37c-3200-42c6-bea2-ddc507c37aae"
      },
      "execution_count": 48,
      "outputs": [
        {
          "output_type": "execute_result",
          "data": {
            "text/plain": [
              "      PassengerId HomePlanet  CryoSleep     Cabin    Destination  Age    VIP  \\\n",
              "12965     9266_02      Earth       True  G/1496/S    TRAPPIST-1e    4  False   \n",
              "12966     9269_01      Earth      False       NaN    TRAPPIST-1e    5  False   \n",
              "12967     9271_01       Mars       True   D/296/P    55 Cancri e    9  False   \n",
              "12968     9273_01     Europa      False   D/297/P            NaN    9  False   \n",
              "12969     9277_01      Earth       True  G/1498/S  PSO J318.5-22    5  False   \n",
              "\n",
              "       RoomService  FoodCourt  ShoppingMall  Spa  VRDeck              Name  \\\n",
              "12965            0          0             0    0       0       Jeron Peter   \n",
              "12966            0        847            17   10     144     Matty Scheron   \n",
              "12967            0          0             0    0       0       Jayrin Pore   \n",
              "12968            0       2680             0    0     523    Kitakan Conale   \n",
              "12969            0          0             0    0       0  Lilace Leonzaley   \n",
              "\n",
              "      Transported WhatIsData Cabin1  Cabin2 Cabin3   Pay  \n",
              "12965         NaN       test      G       3      S     0  \n",
              "12966         NaN       test      F       1      S  1018  \n",
              "12967         NaN       test      D       1      P     0  \n",
              "12968         NaN       test      D       1      P  3203  \n",
              "12969         NaN       test      G       3      S     0  "
            ],
            "text/html": [
              "\n",
              "  <div id=\"df-2648e5a8-b841-4775-a89f-68f8bff6e6fc\">\n",
              "    <div class=\"colab-df-container\">\n",
              "      <div>\n",
              "<style scoped>\n",
              "    .dataframe tbody tr th:only-of-type {\n",
              "        vertical-align: middle;\n",
              "    }\n",
              "\n",
              "    .dataframe tbody tr th {\n",
              "        vertical-align: top;\n",
              "    }\n",
              "\n",
              "    .dataframe thead th {\n",
              "        text-align: right;\n",
              "    }\n",
              "</style>\n",
              "<table border=\"1\" class=\"dataframe\">\n",
              "  <thead>\n",
              "    <tr style=\"text-align: right;\">\n",
              "      <th></th>\n",
              "      <th>PassengerId</th>\n",
              "      <th>HomePlanet</th>\n",
              "      <th>CryoSleep</th>\n",
              "      <th>Cabin</th>\n",
              "      <th>Destination</th>\n",
              "      <th>Age</th>\n",
              "      <th>VIP</th>\n",
              "      <th>RoomService</th>\n",
              "      <th>FoodCourt</th>\n",
              "      <th>ShoppingMall</th>\n",
              "      <th>Spa</th>\n",
              "      <th>VRDeck</th>\n",
              "      <th>Name</th>\n",
              "      <th>Transported</th>\n",
              "      <th>WhatIsData</th>\n",
              "      <th>Cabin1</th>\n",
              "      <th>Cabin2</th>\n",
              "      <th>Cabin3</th>\n",
              "      <th>Pay</th>\n",
              "    </tr>\n",
              "  </thead>\n",
              "  <tbody>\n",
              "    <tr>\n",
              "      <th>12965</th>\n",
              "      <td>9266_02</td>\n",
              "      <td>Earth</td>\n",
              "      <td>True</td>\n",
              "      <td>G/1496/S</td>\n",
              "      <td>TRAPPIST-1e</td>\n",
              "      <td>4</td>\n",
              "      <td>False</td>\n",
              "      <td>0</td>\n",
              "      <td>0</td>\n",
              "      <td>0</td>\n",
              "      <td>0</td>\n",
              "      <td>0</td>\n",
              "      <td>Jeron Peter</td>\n",
              "      <td>NaN</td>\n",
              "      <td>test</td>\n",
              "      <td>G</td>\n",
              "      <td>3</td>\n",
              "      <td>S</td>\n",
              "      <td>0</td>\n",
              "    </tr>\n",
              "    <tr>\n",
              "      <th>12966</th>\n",
              "      <td>9269_01</td>\n",
              "      <td>Earth</td>\n",
              "      <td>False</td>\n",
              "      <td>NaN</td>\n",
              "      <td>TRAPPIST-1e</td>\n",
              "      <td>5</td>\n",
              "      <td>False</td>\n",
              "      <td>0</td>\n",
              "      <td>847</td>\n",
              "      <td>17</td>\n",
              "      <td>10</td>\n",
              "      <td>144</td>\n",
              "      <td>Matty Scheron</td>\n",
              "      <td>NaN</td>\n",
              "      <td>test</td>\n",
              "      <td>F</td>\n",
              "      <td>1</td>\n",
              "      <td>S</td>\n",
              "      <td>1018</td>\n",
              "    </tr>\n",
              "    <tr>\n",
              "      <th>12967</th>\n",
              "      <td>9271_01</td>\n",
              "      <td>Mars</td>\n",
              "      <td>True</td>\n",
              "      <td>D/296/P</td>\n",
              "      <td>55 Cancri e</td>\n",
              "      <td>9</td>\n",
              "      <td>False</td>\n",
              "      <td>0</td>\n",
              "      <td>0</td>\n",
              "      <td>0</td>\n",
              "      <td>0</td>\n",
              "      <td>0</td>\n",
              "      <td>Jayrin Pore</td>\n",
              "      <td>NaN</td>\n",
              "      <td>test</td>\n",
              "      <td>D</td>\n",
              "      <td>1</td>\n",
              "      <td>P</td>\n",
              "      <td>0</td>\n",
              "    </tr>\n",
              "    <tr>\n",
              "      <th>12968</th>\n",
              "      <td>9273_01</td>\n",
              "      <td>Europa</td>\n",
              "      <td>False</td>\n",
              "      <td>D/297/P</td>\n",
              "      <td>NaN</td>\n",
              "      <td>9</td>\n",
              "      <td>False</td>\n",
              "      <td>0</td>\n",
              "      <td>2680</td>\n",
              "      <td>0</td>\n",
              "      <td>0</td>\n",
              "      <td>523</td>\n",
              "      <td>Kitakan Conale</td>\n",
              "      <td>NaN</td>\n",
              "      <td>test</td>\n",
              "      <td>D</td>\n",
              "      <td>1</td>\n",
              "      <td>P</td>\n",
              "      <td>3203</td>\n",
              "    </tr>\n",
              "    <tr>\n",
              "      <th>12969</th>\n",
              "      <td>9277_01</td>\n",
              "      <td>Earth</td>\n",
              "      <td>True</td>\n",
              "      <td>G/1498/S</td>\n",
              "      <td>PSO J318.5-22</td>\n",
              "      <td>5</td>\n",
              "      <td>False</td>\n",
              "      <td>0</td>\n",
              "      <td>0</td>\n",
              "      <td>0</td>\n",
              "      <td>0</td>\n",
              "      <td>0</td>\n",
              "      <td>Lilace Leonzaley</td>\n",
              "      <td>NaN</td>\n",
              "      <td>test</td>\n",
              "      <td>G</td>\n",
              "      <td>3</td>\n",
              "      <td>S</td>\n",
              "      <td>0</td>\n",
              "    </tr>\n",
              "  </tbody>\n",
              "</table>\n",
              "</div>\n",
              "      <button class=\"colab-df-convert\" onclick=\"convertToInteractive('df-2648e5a8-b841-4775-a89f-68f8bff6e6fc')\"\n",
              "              title=\"Convert this dataframe to an interactive table.\"\n",
              "              style=\"display:none;\">\n",
              "        \n",
              "  <svg xmlns=\"http://www.w3.org/2000/svg\" height=\"24px\"viewBox=\"0 0 24 24\"\n",
              "       width=\"24px\">\n",
              "    <path d=\"M0 0h24v24H0V0z\" fill=\"none\"/>\n",
              "    <path d=\"M18.56 5.44l.94 2.06.94-2.06 2.06-.94-2.06-.94-.94-2.06-.94 2.06-2.06.94zm-11 1L8.5 8.5l.94-2.06 2.06-.94-2.06-.94L8.5 2.5l-.94 2.06-2.06.94zm10 10l.94 2.06.94-2.06 2.06-.94-2.06-.94-.94-2.06-.94 2.06-2.06.94z\"/><path d=\"M17.41 7.96l-1.37-1.37c-.4-.4-.92-.59-1.43-.59-.52 0-1.04.2-1.43.59L10.3 9.45l-7.72 7.72c-.78.78-.78 2.05 0 2.83L4 21.41c.39.39.9.59 1.41.59.51 0 1.02-.2 1.41-.59l7.78-7.78 2.81-2.81c.8-.78.8-2.07 0-2.86zM5.41 20L4 18.59l7.72-7.72 1.47 1.35L5.41 20z\"/>\n",
              "  </svg>\n",
              "      </button>\n",
              "      \n",
              "  <style>\n",
              "    .colab-df-container {\n",
              "      display:flex;\n",
              "      flex-wrap:wrap;\n",
              "      gap: 12px;\n",
              "    }\n",
              "\n",
              "    .colab-df-convert {\n",
              "      background-color: #E8F0FE;\n",
              "      border: none;\n",
              "      border-radius: 50%;\n",
              "      cursor: pointer;\n",
              "      display: none;\n",
              "      fill: #1967D2;\n",
              "      height: 32px;\n",
              "      padding: 0 0 0 0;\n",
              "      width: 32px;\n",
              "    }\n",
              "\n",
              "    .colab-df-convert:hover {\n",
              "      background-color: #E2EBFA;\n",
              "      box-shadow: 0px 1px 2px rgba(60, 64, 67, 0.3), 0px 1px 3px 1px rgba(60, 64, 67, 0.15);\n",
              "      fill: #174EA6;\n",
              "    }\n",
              "\n",
              "    [theme=dark] .colab-df-convert {\n",
              "      background-color: #3B4455;\n",
              "      fill: #D2E3FC;\n",
              "    }\n",
              "\n",
              "    [theme=dark] .colab-df-convert:hover {\n",
              "      background-color: #434B5C;\n",
              "      box-shadow: 0px 1px 3px 1px rgba(0, 0, 0, 0.15);\n",
              "      filter: drop-shadow(0px 1px 2px rgba(0, 0, 0, 0.3));\n",
              "      fill: #FFFFFF;\n",
              "    }\n",
              "  </style>\n",
              "\n",
              "      <script>\n",
              "        const buttonEl =\n",
              "          document.querySelector('#df-2648e5a8-b841-4775-a89f-68f8bff6e6fc button.colab-df-convert');\n",
              "        buttonEl.style.display =\n",
              "          google.colab.kernel.accessAllowed ? 'block' : 'none';\n",
              "\n",
              "        async function convertToInteractive(key) {\n",
              "          const element = document.querySelector('#df-2648e5a8-b841-4775-a89f-68f8bff6e6fc');\n",
              "          const dataTable =\n",
              "            await google.colab.kernel.invokeFunction('convertToInteractive',\n",
              "                                                     [key], {});\n",
              "          if (!dataTable) return;\n",
              "\n",
              "          const docLinkHtml = 'Like what you see? Visit the ' +\n",
              "            '<a target=\"_blank\" href=https://colab.research.google.com/notebooks/data_table.ipynb>data table notebook</a>'\n",
              "            + ' to learn more about interactive tables.';\n",
              "          element.innerHTML = '';\n",
              "          dataTable['output_type'] = 'display_data';\n",
              "          await google.colab.output.renderOutput(dataTable, element);\n",
              "          const docLink = document.createElement('div');\n",
              "          docLink.innerHTML = docLinkHtml;\n",
              "          element.appendChild(docLink);\n",
              "        }\n",
              "      </script>\n",
              "    </div>\n",
              "  </div>\n",
              "  "
            ]
          },
          "metadata": {},
          "execution_count": 48
        }
      ]
    },
    {
      "cell_type": "code",
      "source": [],
      "metadata": {
        "id": "TG4NXDemLUA1"
      },
      "execution_count": 48,
      "outputs": []
    },
    {
      "cell_type": "code",
      "source": [
        "from sklearn.preprocessing import LabelEncoder\n",
        "lbl = LabelEncoder()"
      ],
      "metadata": {
        "id": "myRAGi4hL0Cz"
      },
      "execution_count": null,
      "outputs": []
    },
    {
      "cell_type": "code",
      "source": [
        "df['HomePlanet'] = lbl.fit_transform(df['HomePlanet'])\n",
        "df['Destination'] = lbl.fit_transform(df['Destination'])\n",
        "df['Cabin1'] = lbl.fit_transform(df['Cabin1'])\n",
        "df['Cabin3'] = lbl.fit_transform(df['Cabin3'])\n",
        "df['Transported'] = lbl.fit_transform(df['Transported'])"
      ],
      "metadata": {
        "id": "qSYTRurbMVG8"
      },
      "execution_count": null,
      "outputs": []
    },
    {
      "cell_type": "code",
      "source": [
        "df.reset_index()"
      ],
      "metadata": {
        "colab": {
          "base_uri": "https://localhost:8080/",
          "height": 487
        },
        "id": "UfRD4xc7NXFI",
        "outputId": "e99fac86-7e87-4992-fc20-4b7c1dc46fc4"
      },
      "execution_count": null,
      "outputs": [
        {
          "output_type": "execute_result",
          "data": {
            "text/plain": [
              "       index  HomePlanet  CryoSleep  Destination  Age    VIP  RoomService  \\\n",
              "0          0           1      False            2    4  False            0   \n",
              "1          1           0      False            2    3  False          109   \n",
              "2          2           1      False            2    6   True           43   \n",
              "3          3           1      False            2    4  False            0   \n",
              "4          4           0      False            2    2  False          303   \n",
              "...      ...         ...        ...          ...  ...    ...          ...   \n",
              "12965  12965           0       True            2    4  False            0   \n",
              "12966  12966           0      False            2    5  False            0   \n",
              "12967  12967           2       True            0    3  False            0   \n",
              "12968  12968           1      False            2    3  False            0   \n",
              "12969  12969           0       True            1    5  False            0   \n",
              "\n",
              "       FoodCourt  ShoppingMall   Spa  VRDeck  Transported WhatIsData  Cabin1  \\\n",
              "0              0             0     0       0            0      train       1   \n",
              "1              9            25   549      44            1      train       5   \n",
              "2           3576             0  6715      49            0      train       0   \n",
              "3           1283           371  3329     193            0      train       0   \n",
              "4             70           151   565       2            1      train       5   \n",
              "...          ...           ...   ...     ...          ...        ...     ...   \n",
              "12965          0             0     0       0            2       test       6   \n",
              "12966        847            17    10     144            2       test       5   \n",
              "12967          0             0     0       0            2       test       3   \n",
              "12968       2680             0     0     523            2       test       3   \n",
              "12969          0             0     0       0            2       test       6   \n",
              "\n",
              "       Cabin2  Cabin3    Pay  \n",
              "0           1       0      0  \n",
              "1           1       1    736  \n",
              "2           1       1  10383  \n",
              "3           1       1   5176  \n",
              "4           1       1   1091  \n",
              "...       ...     ...    ...  \n",
              "12965       3       1      0  \n",
              "12966       1       1   1018  \n",
              "12967       1       0      0  \n",
              "12968       1       0   3203  \n",
              "12969       3       1      0  \n",
              "\n",
              "[12970 rows x 17 columns]"
            ],
            "text/html": [
              "\n",
              "  <div id=\"df-3962a235-5309-4f3d-b68c-164b30fe39dc\">\n",
              "    <div class=\"colab-df-container\">\n",
              "      <div>\n",
              "<style scoped>\n",
              "    .dataframe tbody tr th:only-of-type {\n",
              "        vertical-align: middle;\n",
              "    }\n",
              "\n",
              "    .dataframe tbody tr th {\n",
              "        vertical-align: top;\n",
              "    }\n",
              "\n",
              "    .dataframe thead th {\n",
              "        text-align: right;\n",
              "    }\n",
              "</style>\n",
              "<table border=\"1\" class=\"dataframe\">\n",
              "  <thead>\n",
              "    <tr style=\"text-align: right;\">\n",
              "      <th></th>\n",
              "      <th>index</th>\n",
              "      <th>HomePlanet</th>\n",
              "      <th>CryoSleep</th>\n",
              "      <th>Destination</th>\n",
              "      <th>Age</th>\n",
              "      <th>VIP</th>\n",
              "      <th>RoomService</th>\n",
              "      <th>FoodCourt</th>\n",
              "      <th>ShoppingMall</th>\n",
              "      <th>Spa</th>\n",
              "      <th>VRDeck</th>\n",
              "      <th>Transported</th>\n",
              "      <th>WhatIsData</th>\n",
              "      <th>Cabin1</th>\n",
              "      <th>Cabin2</th>\n",
              "      <th>Cabin3</th>\n",
              "      <th>Pay</th>\n",
              "    </tr>\n",
              "  </thead>\n",
              "  <tbody>\n",
              "    <tr>\n",
              "      <th>0</th>\n",
              "      <td>0</td>\n",
              "      <td>1</td>\n",
              "      <td>False</td>\n",
              "      <td>2</td>\n",
              "      <td>4</td>\n",
              "      <td>False</td>\n",
              "      <td>0</td>\n",
              "      <td>0</td>\n",
              "      <td>0</td>\n",
              "      <td>0</td>\n",
              "      <td>0</td>\n",
              "      <td>0</td>\n",
              "      <td>train</td>\n",
              "      <td>1</td>\n",
              "      <td>1</td>\n",
              "      <td>0</td>\n",
              "      <td>0</td>\n",
              "    </tr>\n",
              "    <tr>\n",
              "      <th>1</th>\n",
              "      <td>1</td>\n",
              "      <td>0</td>\n",
              "      <td>False</td>\n",
              "      <td>2</td>\n",
              "      <td>3</td>\n",
              "      <td>False</td>\n",
              "      <td>109</td>\n",
              "      <td>9</td>\n",
              "      <td>25</td>\n",
              "      <td>549</td>\n",
              "      <td>44</td>\n",
              "      <td>1</td>\n",
              "      <td>train</td>\n",
              "      <td>5</td>\n",
              "      <td>1</td>\n",
              "      <td>1</td>\n",
              "      <td>736</td>\n",
              "    </tr>\n",
              "    <tr>\n",
              "      <th>2</th>\n",
              "      <td>2</td>\n",
              "      <td>1</td>\n",
              "      <td>False</td>\n",
              "      <td>2</td>\n",
              "      <td>6</td>\n",
              "      <td>True</td>\n",
              "      <td>43</td>\n",
              "      <td>3576</td>\n",
              "      <td>0</td>\n",
              "      <td>6715</td>\n",
              "      <td>49</td>\n",
              "      <td>0</td>\n",
              "      <td>train</td>\n",
              "      <td>0</td>\n",
              "      <td>1</td>\n",
              "      <td>1</td>\n",
              "      <td>10383</td>\n",
              "    </tr>\n",
              "    <tr>\n",
              "      <th>3</th>\n",
              "      <td>3</td>\n",
              "      <td>1</td>\n",
              "      <td>False</td>\n",
              "      <td>2</td>\n",
              "      <td>4</td>\n",
              "      <td>False</td>\n",
              "      <td>0</td>\n",
              "      <td>1283</td>\n",
              "      <td>371</td>\n",
              "      <td>3329</td>\n",
              "      <td>193</td>\n",
              "      <td>0</td>\n",
              "      <td>train</td>\n",
              "      <td>0</td>\n",
              "      <td>1</td>\n",
              "      <td>1</td>\n",
              "      <td>5176</td>\n",
              "    </tr>\n",
              "    <tr>\n",
              "      <th>4</th>\n",
              "      <td>4</td>\n",
              "      <td>0</td>\n",
              "      <td>False</td>\n",
              "      <td>2</td>\n",
              "      <td>2</td>\n",
              "      <td>False</td>\n",
              "      <td>303</td>\n",
              "      <td>70</td>\n",
              "      <td>151</td>\n",
              "      <td>565</td>\n",
              "      <td>2</td>\n",
              "      <td>1</td>\n",
              "      <td>train</td>\n",
              "      <td>5</td>\n",
              "      <td>1</td>\n",
              "      <td>1</td>\n",
              "      <td>1091</td>\n",
              "    </tr>\n",
              "    <tr>\n",
              "      <th>...</th>\n",
              "      <td>...</td>\n",
              "      <td>...</td>\n",
              "      <td>...</td>\n",
              "      <td>...</td>\n",
              "      <td>...</td>\n",
              "      <td>...</td>\n",
              "      <td>...</td>\n",
              "      <td>...</td>\n",
              "      <td>...</td>\n",
              "      <td>...</td>\n",
              "      <td>...</td>\n",
              "      <td>...</td>\n",
              "      <td>...</td>\n",
              "      <td>...</td>\n",
              "      <td>...</td>\n",
              "      <td>...</td>\n",
              "      <td>...</td>\n",
              "    </tr>\n",
              "    <tr>\n",
              "      <th>12965</th>\n",
              "      <td>12965</td>\n",
              "      <td>0</td>\n",
              "      <td>True</td>\n",
              "      <td>2</td>\n",
              "      <td>4</td>\n",
              "      <td>False</td>\n",
              "      <td>0</td>\n",
              "      <td>0</td>\n",
              "      <td>0</td>\n",
              "      <td>0</td>\n",
              "      <td>0</td>\n",
              "      <td>2</td>\n",
              "      <td>test</td>\n",
              "      <td>6</td>\n",
              "      <td>3</td>\n",
              "      <td>1</td>\n",
              "      <td>0</td>\n",
              "    </tr>\n",
              "    <tr>\n",
              "      <th>12966</th>\n",
              "      <td>12966</td>\n",
              "      <td>0</td>\n",
              "      <td>False</td>\n",
              "      <td>2</td>\n",
              "      <td>5</td>\n",
              "      <td>False</td>\n",
              "      <td>0</td>\n",
              "      <td>847</td>\n",
              "      <td>17</td>\n",
              "      <td>10</td>\n",
              "      <td>144</td>\n",
              "      <td>2</td>\n",
              "      <td>test</td>\n",
              "      <td>5</td>\n",
              "      <td>1</td>\n",
              "      <td>1</td>\n",
              "      <td>1018</td>\n",
              "    </tr>\n",
              "    <tr>\n",
              "      <th>12967</th>\n",
              "      <td>12967</td>\n",
              "      <td>2</td>\n",
              "      <td>True</td>\n",
              "      <td>0</td>\n",
              "      <td>3</td>\n",
              "      <td>False</td>\n",
              "      <td>0</td>\n",
              "      <td>0</td>\n",
              "      <td>0</td>\n",
              "      <td>0</td>\n",
              "      <td>0</td>\n",
              "      <td>2</td>\n",
              "      <td>test</td>\n",
              "      <td>3</td>\n",
              "      <td>1</td>\n",
              "      <td>0</td>\n",
              "      <td>0</td>\n",
              "    </tr>\n",
              "    <tr>\n",
              "      <th>12968</th>\n",
              "      <td>12968</td>\n",
              "      <td>1</td>\n",
              "      <td>False</td>\n",
              "      <td>2</td>\n",
              "      <td>3</td>\n",
              "      <td>False</td>\n",
              "      <td>0</td>\n",
              "      <td>2680</td>\n",
              "      <td>0</td>\n",
              "      <td>0</td>\n",
              "      <td>523</td>\n",
              "      <td>2</td>\n",
              "      <td>test</td>\n",
              "      <td>3</td>\n",
              "      <td>1</td>\n",
              "      <td>0</td>\n",
              "      <td>3203</td>\n",
              "    </tr>\n",
              "    <tr>\n",
              "      <th>12969</th>\n",
              "      <td>12969</td>\n",
              "      <td>0</td>\n",
              "      <td>True</td>\n",
              "      <td>1</td>\n",
              "      <td>5</td>\n",
              "      <td>False</td>\n",
              "      <td>0</td>\n",
              "      <td>0</td>\n",
              "      <td>0</td>\n",
              "      <td>0</td>\n",
              "      <td>0</td>\n",
              "      <td>2</td>\n",
              "      <td>test</td>\n",
              "      <td>6</td>\n",
              "      <td>3</td>\n",
              "      <td>1</td>\n",
              "      <td>0</td>\n",
              "    </tr>\n",
              "  </tbody>\n",
              "</table>\n",
              "<p>12970 rows × 17 columns</p>\n",
              "</div>\n",
              "      <button class=\"colab-df-convert\" onclick=\"convertToInteractive('df-3962a235-5309-4f3d-b68c-164b30fe39dc')\"\n",
              "              title=\"Convert this dataframe to an interactive table.\"\n",
              "              style=\"display:none;\">\n",
              "        \n",
              "  <svg xmlns=\"http://www.w3.org/2000/svg\" height=\"24px\"viewBox=\"0 0 24 24\"\n",
              "       width=\"24px\">\n",
              "    <path d=\"M0 0h24v24H0V0z\" fill=\"none\"/>\n",
              "    <path d=\"M18.56 5.44l.94 2.06.94-2.06 2.06-.94-2.06-.94-.94-2.06-.94 2.06-2.06.94zm-11 1L8.5 8.5l.94-2.06 2.06-.94-2.06-.94L8.5 2.5l-.94 2.06-2.06.94zm10 10l.94 2.06.94-2.06 2.06-.94-2.06-.94-.94-2.06-.94 2.06-2.06.94z\"/><path d=\"M17.41 7.96l-1.37-1.37c-.4-.4-.92-.59-1.43-.59-.52 0-1.04.2-1.43.59L10.3 9.45l-7.72 7.72c-.78.78-.78 2.05 0 2.83L4 21.41c.39.39.9.59 1.41.59.51 0 1.02-.2 1.41-.59l7.78-7.78 2.81-2.81c.8-.78.8-2.07 0-2.86zM5.41 20L4 18.59l7.72-7.72 1.47 1.35L5.41 20z\"/>\n",
              "  </svg>\n",
              "      </button>\n",
              "      \n",
              "  <style>\n",
              "    .colab-df-container {\n",
              "      display:flex;\n",
              "      flex-wrap:wrap;\n",
              "      gap: 12px;\n",
              "    }\n",
              "\n",
              "    .colab-df-convert {\n",
              "      background-color: #E8F0FE;\n",
              "      border: none;\n",
              "      border-radius: 50%;\n",
              "      cursor: pointer;\n",
              "      display: none;\n",
              "      fill: #1967D2;\n",
              "      height: 32px;\n",
              "      padding: 0 0 0 0;\n",
              "      width: 32px;\n",
              "    }\n",
              "\n",
              "    .colab-df-convert:hover {\n",
              "      background-color: #E2EBFA;\n",
              "      box-shadow: 0px 1px 2px rgba(60, 64, 67, 0.3), 0px 1px 3px 1px rgba(60, 64, 67, 0.15);\n",
              "      fill: #174EA6;\n",
              "    }\n",
              "\n",
              "    [theme=dark] .colab-df-convert {\n",
              "      background-color: #3B4455;\n",
              "      fill: #D2E3FC;\n",
              "    }\n",
              "\n",
              "    [theme=dark] .colab-df-convert:hover {\n",
              "      background-color: #434B5C;\n",
              "      box-shadow: 0px 1px 3px 1px rgba(0, 0, 0, 0.15);\n",
              "      filter: drop-shadow(0px 1px 2px rgba(0, 0, 0, 0.3));\n",
              "      fill: #FFFFFF;\n",
              "    }\n",
              "  </style>\n",
              "\n",
              "      <script>\n",
              "        const buttonEl =\n",
              "          document.querySelector('#df-3962a235-5309-4f3d-b68c-164b30fe39dc button.colab-df-convert');\n",
              "        buttonEl.style.display =\n",
              "          google.colab.kernel.accessAllowed ? 'block' : 'none';\n",
              "\n",
              "        async function convertToInteractive(key) {\n",
              "          const element = document.querySelector('#df-3962a235-5309-4f3d-b68c-164b30fe39dc');\n",
              "          const dataTable =\n",
              "            await google.colab.kernel.invokeFunction('convertToInteractive',\n",
              "                                                     [key], {});\n",
              "          if (!dataTable) return;\n",
              "\n",
              "          const docLinkHtml = 'Like what you see? Visit the ' +\n",
              "            '<a target=\"_blank\" href=https://colab.research.google.com/notebooks/data_table.ipynb>data table notebook</a>'\n",
              "            + ' to learn more about interactive tables.';\n",
              "          element.innerHTML = '';\n",
              "          dataTable['output_type'] = 'display_data';\n",
              "          await google.colab.output.renderOutput(dataTable, element);\n",
              "          const docLink = document.createElement('div');\n",
              "          docLink.innerHTML = docLinkHtml;\n",
              "          element.appendChild(docLink);\n",
              "        }\n",
              "      </script>\n",
              "    </div>\n",
              "  </div>\n",
              "  "
            ]
          },
          "metadata": {},
          "execution_count": 259
        }
      ]
    },
    {
      "cell_type": "code",
      "source": [
        "train.info()"
      ],
      "metadata": {
        "colab": {
          "base_uri": "https://localhost:8080/"
        },
        "id": "vSO-mxEOP012",
        "outputId": "674e8e21-3022-4e89-fdae-46e3c4f9154b"
      },
      "execution_count": null,
      "outputs": [
        {
          "output_type": "stream",
          "name": "stdout",
          "text": [
            "<class 'pandas.core.frame.DataFrame'>\n",
            "Int64Index: 8693 entries, 0 to 8692\n",
            "Data columns (total 16 columns):\n",
            " #   Column        Non-Null Count  Dtype  \n",
            "---  ------        --------------  -----  \n",
            " 0   HomePlanet    8693 non-null   int64  \n",
            " 1   CryoSleep     8693 non-null   bool   \n",
            " 2   Destination   8693 non-null   int64  \n",
            " 3   Age           8693 non-null   int64  \n",
            " 4   VIP           8693 non-null   bool   \n",
            " 5   RoomService   8693 non-null   float64\n",
            " 6   FoodCourt     8693 non-null   float64\n",
            " 7   ShoppingMall  8693 non-null   float64\n",
            " 8   Spa           8693 non-null   float64\n",
            " 9   VRDeck        8693 non-null   float64\n",
            " 10  Transported   8693 non-null   int64  \n",
            " 11  WhatIsData    8693 non-null   object \n",
            " 12  Cabin1        8693 non-null   int64  \n",
            " 13  Cabin2        8693 non-null   int64  \n",
            " 14  Cabin3        8693 non-null   int64  \n",
            " 15  Pay           8693 non-null   float64\n",
            "dtypes: bool(2), float64(6), int64(7), object(1)\n",
            "memory usage: 1.0+ MB\n"
          ]
        }
      ]
    },
    {
      "cell_type": "code",
      "source": [
        "train = df.loc[(df['WhatIsData']=='train')]\n",
        "test = df.loc[(df['WhatIsData']=='test')]"
      ],
      "metadata": {
        "id": "h7XILEG-NY7p"
      },
      "execution_count": null,
      "outputs": []
    },
    {
      "cell_type": "code",
      "source": [
        "x = train.drop(['WhatIsData'],axis=1)\n",
        "t = train.iloc[:,10:11]"
      ],
      "metadata": {
        "id": "LCobpowZOBi1"
      },
      "execution_count": null,
      "outputs": []
    },
    {
      "cell_type": "code",
      "source": [
        "x.head()"
      ],
      "metadata": {
        "id": "546Yr0DMZV4M"
      },
      "execution_count": null,
      "outputs": []
    },
    {
      "cell_type": "code",
      "source": [
        "x = x.drop(['Transported'],axis=1)"
      ],
      "metadata": {
        "id": "9VMWO_SLTkeH"
      },
      "execution_count": null,
      "outputs": []
    },
    {
      "cell_type": "code",
      "source": [
        "x_test = test.drop(['WhatIsData','Transported'],axis=1)"
      ],
      "metadata": {
        "id": "ux3EH8qBODJW"
      },
      "execution_count": null,
      "outputs": []
    },
    {
      "cell_type": "code",
      "source": [
        "x.tail()"
      ],
      "metadata": {
        "colab": {
          "base_uri": "https://localhost:8080/",
          "height": 270
        },
        "id": "wcbuDOI5Qo56",
        "outputId": "86a34cde-bd26-4f73-8c70-f1aae13d1dd7"
      },
      "execution_count": null,
      "outputs": [
        {
          "output_type": "execute_result",
          "data": {
            "text/plain": [
              "      HomePlanet  CryoSleep  Destination  Age    VIP  RoomService  FoodCourt  \\\n",
              "8688           1      False            0    5   True            0       6819   \n",
              "8689           0       True            1    2  False            0          0   \n",
              "8690           0      False            2    3  False            0          0   \n",
              "8691           1      False            0    4  False            0       1049   \n",
              "8692           1      False            2    5  False          126       4688   \n",
              "\n",
              "      ShoppingMall   Spa  VRDeck  Cabin1  Cabin2  Cabin3   Pay  \n",
              "8688             0  1643      74       0       1       0  8536  \n",
              "8689             0     0       0       6       3       1     0  \n",
              "8690          1872     1       0       6       4       1  1873  \n",
              "8691             0   353    3235       4       3       1  4637  \n",
              "8692             0     0      12       4       3       1  4826  "
            ],
            "text/html": [
              "\n",
              "  <div id=\"df-ffc5e672-b191-4023-9f70-c680879fb239\">\n",
              "    <div class=\"colab-df-container\">\n",
              "      <div>\n",
              "<style scoped>\n",
              "    .dataframe tbody tr th:only-of-type {\n",
              "        vertical-align: middle;\n",
              "    }\n",
              "\n",
              "    .dataframe tbody tr th {\n",
              "        vertical-align: top;\n",
              "    }\n",
              "\n",
              "    .dataframe thead th {\n",
              "        text-align: right;\n",
              "    }\n",
              "</style>\n",
              "<table border=\"1\" class=\"dataframe\">\n",
              "  <thead>\n",
              "    <tr style=\"text-align: right;\">\n",
              "      <th></th>\n",
              "      <th>HomePlanet</th>\n",
              "      <th>CryoSleep</th>\n",
              "      <th>Destination</th>\n",
              "      <th>Age</th>\n",
              "      <th>VIP</th>\n",
              "      <th>RoomService</th>\n",
              "      <th>FoodCourt</th>\n",
              "      <th>ShoppingMall</th>\n",
              "      <th>Spa</th>\n",
              "      <th>VRDeck</th>\n",
              "      <th>Cabin1</th>\n",
              "      <th>Cabin2</th>\n",
              "      <th>Cabin3</th>\n",
              "      <th>Pay</th>\n",
              "    </tr>\n",
              "  </thead>\n",
              "  <tbody>\n",
              "    <tr>\n",
              "      <th>8688</th>\n",
              "      <td>1</td>\n",
              "      <td>False</td>\n",
              "      <td>0</td>\n",
              "      <td>5</td>\n",
              "      <td>True</td>\n",
              "      <td>0</td>\n",
              "      <td>6819</td>\n",
              "      <td>0</td>\n",
              "      <td>1643</td>\n",
              "      <td>74</td>\n",
              "      <td>0</td>\n",
              "      <td>1</td>\n",
              "      <td>0</td>\n",
              "      <td>8536</td>\n",
              "    </tr>\n",
              "    <tr>\n",
              "      <th>8689</th>\n",
              "      <td>0</td>\n",
              "      <td>True</td>\n",
              "      <td>1</td>\n",
              "      <td>2</td>\n",
              "      <td>False</td>\n",
              "      <td>0</td>\n",
              "      <td>0</td>\n",
              "      <td>0</td>\n",
              "      <td>0</td>\n",
              "      <td>0</td>\n",
              "      <td>6</td>\n",
              "      <td>3</td>\n",
              "      <td>1</td>\n",
              "      <td>0</td>\n",
              "    </tr>\n",
              "    <tr>\n",
              "      <th>8690</th>\n",
              "      <td>0</td>\n",
              "      <td>False</td>\n",
              "      <td>2</td>\n",
              "      <td>3</td>\n",
              "      <td>False</td>\n",
              "      <td>0</td>\n",
              "      <td>0</td>\n",
              "      <td>1872</td>\n",
              "      <td>1</td>\n",
              "      <td>0</td>\n",
              "      <td>6</td>\n",
              "      <td>4</td>\n",
              "      <td>1</td>\n",
              "      <td>1873</td>\n",
              "    </tr>\n",
              "    <tr>\n",
              "      <th>8691</th>\n",
              "      <td>1</td>\n",
              "      <td>False</td>\n",
              "      <td>0</td>\n",
              "      <td>4</td>\n",
              "      <td>False</td>\n",
              "      <td>0</td>\n",
              "      <td>1049</td>\n",
              "      <td>0</td>\n",
              "      <td>353</td>\n",
              "      <td>3235</td>\n",
              "      <td>4</td>\n",
              "      <td>3</td>\n",
              "      <td>1</td>\n",
              "      <td>4637</td>\n",
              "    </tr>\n",
              "    <tr>\n",
              "      <th>8692</th>\n",
              "      <td>1</td>\n",
              "      <td>False</td>\n",
              "      <td>2</td>\n",
              "      <td>5</td>\n",
              "      <td>False</td>\n",
              "      <td>126</td>\n",
              "      <td>4688</td>\n",
              "      <td>0</td>\n",
              "      <td>0</td>\n",
              "      <td>12</td>\n",
              "      <td>4</td>\n",
              "      <td>3</td>\n",
              "      <td>1</td>\n",
              "      <td>4826</td>\n",
              "    </tr>\n",
              "  </tbody>\n",
              "</table>\n",
              "</div>\n",
              "      <button class=\"colab-df-convert\" onclick=\"convertToInteractive('df-ffc5e672-b191-4023-9f70-c680879fb239')\"\n",
              "              title=\"Convert this dataframe to an interactive table.\"\n",
              "              style=\"display:none;\">\n",
              "        \n",
              "  <svg xmlns=\"http://www.w3.org/2000/svg\" height=\"24px\"viewBox=\"0 0 24 24\"\n",
              "       width=\"24px\">\n",
              "    <path d=\"M0 0h24v24H0V0z\" fill=\"none\"/>\n",
              "    <path d=\"M18.56 5.44l.94 2.06.94-2.06 2.06-.94-2.06-.94-.94-2.06-.94 2.06-2.06.94zm-11 1L8.5 8.5l.94-2.06 2.06-.94-2.06-.94L8.5 2.5l-.94 2.06-2.06.94zm10 10l.94 2.06.94-2.06 2.06-.94-2.06-.94-.94-2.06-.94 2.06-2.06.94z\"/><path d=\"M17.41 7.96l-1.37-1.37c-.4-.4-.92-.59-1.43-.59-.52 0-1.04.2-1.43.59L10.3 9.45l-7.72 7.72c-.78.78-.78 2.05 0 2.83L4 21.41c.39.39.9.59 1.41.59.51 0 1.02-.2 1.41-.59l7.78-7.78 2.81-2.81c.8-.78.8-2.07 0-2.86zM5.41 20L4 18.59l7.72-7.72 1.47 1.35L5.41 20z\"/>\n",
              "  </svg>\n",
              "      </button>\n",
              "      \n",
              "  <style>\n",
              "    .colab-df-container {\n",
              "      display:flex;\n",
              "      flex-wrap:wrap;\n",
              "      gap: 12px;\n",
              "    }\n",
              "\n",
              "    .colab-df-convert {\n",
              "      background-color: #E8F0FE;\n",
              "      border: none;\n",
              "      border-radius: 50%;\n",
              "      cursor: pointer;\n",
              "      display: none;\n",
              "      fill: #1967D2;\n",
              "      height: 32px;\n",
              "      padding: 0 0 0 0;\n",
              "      width: 32px;\n",
              "    }\n",
              "\n",
              "    .colab-df-convert:hover {\n",
              "      background-color: #E2EBFA;\n",
              "      box-shadow: 0px 1px 2px rgba(60, 64, 67, 0.3), 0px 1px 3px 1px rgba(60, 64, 67, 0.15);\n",
              "      fill: #174EA6;\n",
              "    }\n",
              "\n",
              "    [theme=dark] .colab-df-convert {\n",
              "      background-color: #3B4455;\n",
              "      fill: #D2E3FC;\n",
              "    }\n",
              "\n",
              "    [theme=dark] .colab-df-convert:hover {\n",
              "      background-color: #434B5C;\n",
              "      box-shadow: 0px 1px 3px 1px rgba(0, 0, 0, 0.15);\n",
              "      filter: drop-shadow(0px 1px 2px rgba(0, 0, 0, 0.3));\n",
              "      fill: #FFFFFF;\n",
              "    }\n",
              "  </style>\n",
              "\n",
              "      <script>\n",
              "        const buttonEl =\n",
              "          document.querySelector('#df-ffc5e672-b191-4023-9f70-c680879fb239 button.colab-df-convert');\n",
              "        buttonEl.style.display =\n",
              "          google.colab.kernel.accessAllowed ? 'block' : 'none';\n",
              "\n",
              "        async function convertToInteractive(key) {\n",
              "          const element = document.querySelector('#df-ffc5e672-b191-4023-9f70-c680879fb239');\n",
              "          const dataTable =\n",
              "            await google.colab.kernel.invokeFunction('convertToInteractive',\n",
              "                                                     [key], {});\n",
              "          if (!dataTable) return;\n",
              "\n",
              "          const docLinkHtml = 'Like what you see? Visit the ' +\n",
              "            '<a target=\"_blank\" href=https://colab.research.google.com/notebooks/data_table.ipynb>data table notebook</a>'\n",
              "            + ' to learn more about interactive tables.';\n",
              "          element.innerHTML = '';\n",
              "          dataTable['output_type'] = 'display_data';\n",
              "          await google.colab.output.renderOutput(dataTable, element);\n",
              "          const docLink = document.createElement('div');\n",
              "          docLink.innerHTML = docLinkHtml;\n",
              "          element.appendChild(docLink);\n",
              "        }\n",
              "      </script>\n",
              "    </div>\n",
              "  </div>\n",
              "  "
            ]
          },
          "metadata": {},
          "execution_count": 276
        }
      ]
    },
    {
      "cell_type": "code",
      "source": [
        "from sklearn.model_selection import train_test_split\n",
        "from sklearn import metrics\n",
        "import lightgbm as lgb\n",
        "from sklearn.model_selection import StratifiedKFold"
      ],
      "metadata": {
        "id": "hq81YBQTY8oL"
      },
      "execution_count": null,
      "outputs": []
    },
    {
      "cell_type": "code",
      "source": [
        "kf=StratifiedKFold(n_splits=10, shuffle=True, random_state=0)"
      ],
      "metadata": {
        "id": "Xuyze_vSY8kw"
      },
      "execution_count": null,
      "outputs": []
    },
    {
      "cell_type": "code",
      "source": [
        "def objective(trial):\n",
        "      params={\"metric\":\"auc\",\n",
        "              \"objective\":\"binary\", \n",
        "              \"max_depth\":trial.suggest_int(\"max_depth\",5,1000),\n",
        "              \"num_leaves\":trial.suggest_int(\"num_leaves\",10,3000),\n",
        "              \"min_child_samples\":trial.suggest_int(\"min_child_samples\",50,500),\n",
        "              \"learning_rate\":trial.suggest_uniform(\"learning_rate\",0.01,1.5),\n",
        "              \"feature_fraction\":trial.suggest_uniform(\"feature_fraction\",0,1),\n",
        "              \"bagging_fraction\":trial.suggest_uniform(\"bagging_fraction\",0,1)}\n",
        "      \n",
        "      val_scores=[]\n",
        "\n",
        "      for i, (train__, val__) in enumerate(kf.split(x,t)):\n",
        "          x_train, x_val=x.iloc[train__], x.iloc[val__]\n",
        "          t_train, t_val=t.iloc[train__], t.iloc[val__]\n",
        "          lgb_train=lgb.Dataset(x_train, t_train)\n",
        "          lgb_eval=lgb.Dataset(x_val, t_val)\n",
        "\n",
        "          lgbm=lgb.train(params,\n",
        "                         lgb_train,\n",
        "                         valid_sets=lgb_eval,\n",
        "                         num_boost_round=1000,\n",
        "                         early_stopping_rounds=50,\n",
        "                         verbose_eval=False)\n",
        "          \n",
        "          t_train_pred=np.round(lgbm.predict(x_train))\n",
        "          t_val_pred=np.round(lgbm.predict(x_val))\n",
        "          scoretrain=metrics.accuracy_score(t_train[\"Transported\"],t_train_pred)\n",
        "          scoreval=metrics.accuracy_score(t_val[\"Transported\"],t_val_pred)\n",
        "          val_scores.append(scoreval)\n",
        "\n",
        "      cv_score=np.mean(val_scores)\n",
        "\n",
        "      return cv_score"
      ],
      "metadata": {
        "id": "xuTQzIf3ZAQ3"
      },
      "execution_count": null,
      "outputs": []
    },
    {
      "cell_type": "code",
      "source": [
        "study=optuna.create_study(direction=\"maximize\")\n",
        "study.optimize(objective, n_trials=50)"
      ],
      "metadata": {
        "id": "rrieSosnZANb"
      },
      "execution_count": null,
      "outputs": []
    },
    {
      "cell_type": "code",
      "source": [
        "x_train,x_val,t_train,t_val=train_test_split(x,t,test_size=0.25,stratify=t)\n",
        "lgb_train=lgb.Dataset(x_train, t_train)\n",
        "lgb_eval=lgb.Dataset(x_val, t_val)"
      ],
      "metadata": {
        "id": "05sehIWHZALL"
      },
      "execution_count": null,
      "outputs": []
    },
    {
      "cell_type": "code",
      "source": [
        "bestparams={\"metric\":\"auc\",\n",
        "            \"objective\":\"binary\", \n",
        "            \"max_depth\":study.best_params[\"max_depth\"],\n",
        "            \"num_leaves\":study.best_params[\"num_leaves\"],\n",
        "            \"min_child_samples\":study.best_params[\"min_child_samples\"],\n",
        "            \"learning_rate\":study.best_params[\"learning_rate\"],\n",
        "            \"feature_fraction\":study.best_params[\"feature_fraction\"],\n",
        "            \"bagging_fraction\":study.best_params[\"bagging_fraction\"]}\n",
        "\n",
        "\n",
        "best_lgbm=lgb.train(bestparams,\n",
        "                    lgb_train,\n",
        "                    valid_sets=lgb_eval,\n",
        "                    num_boost_round=1000,\n",
        "                    early_stopping_rounds=50,\n",
        "                    verbose_eval=50)"
      ],
      "metadata": {
        "colab": {
          "base_uri": "https://localhost:8080/"
        },
        "id": "mcoFDQ3yZAJF",
        "outputId": "62ca37b3-4486-4457-8a07-b12794e67705"
      },
      "execution_count": null,
      "outputs": [
        {
          "output_type": "stream",
          "name": "stdout",
          "text": [
            "Training until validation scores don't improve for 50 rounds.\n",
            "[50]\tvalid_0's auc: 0.893481\n",
            "Early stopping, best iteration is:\n",
            "[26]\tvalid_0's auc: 0.896223\n"
          ]
        }
      ]
    },
    {
      "cell_type": "code",
      "source": [
        "pred=np.round(best_lgbm.predict(x_test))"
      ],
      "metadata": {
        "id": "Bi8FSk-cZAG2"
      },
      "execution_count": null,
      "outputs": []
    },
    {
      "cell_type": "code",
      "source": [
        "study.best_params"
      ],
      "metadata": {
        "colab": {
          "base_uri": "https://localhost:8080/"
        },
        "id": "yaAhM5iHZAE6",
        "outputId": "7d8db5a7-5505-482e-b1cf-be33356fdbd3"
      },
      "execution_count": null,
      "outputs": [
        {
          "output_type": "execute_result",
          "data": {
            "text/plain": [
              "{'max_depth': 807,\n",
              " 'num_leaves': 478,\n",
              " 'min_child_samples': 79,\n",
              " 'learning_rate': 0.19814705704116223,\n",
              " 'feature_fraction': 0.9531375889998339,\n",
              " 'bagging_fraction': 0.24741004595917504}"
            ]
          },
          "metadata": {},
          "execution_count": 284
        }
      ]
    },
    {
      "cell_type": "code",
      "source": [
        "print(metrics.accuracy_score(t_train[\"Transported\"],np.round(best_lgbm.predict(x_train))))\n",
        "print(metrics.accuracy_score(t_val[\"Transported\"],np.round(best_lgbm.predict(x_val))))"
      ],
      "metadata": {
        "colab": {
          "base_uri": "https://localhost:8080/"
        },
        "id": "GISYxGSfZACV",
        "outputId": "651b0e3e-42a2-43eb-b25d-9ea46ca9b3bc"
      },
      "execution_count": null,
      "outputs": [
        {
          "output_type": "stream",
          "name": "stdout",
          "text": [
            "0.8435342843994478\n",
            "0.8141674333026679\n"
          ]
        }
      ]
    },
    {
      "cell_type": "code",
      "source": [
        "df_predict=pd.DataFrame(pred.astype(int),columns=[\"Transported\"])\n",
        "df_predict[\"Transported\"]=df_predict[\"Transported\"].astype(bool)"
      ],
      "metadata": {
        "id": "VATqdZlbY__w"
      },
      "execution_count": null,
      "outputs": []
    },
    {
      "cell_type": "code",
      "source": [
        "df_predict['PassengerId'] = p"
      ],
      "metadata": {
        "id": "xOof4fdwg3e5"
      },
      "execution_count": null,
      "outputs": []
    },
    {
      "cell_type": "code",
      "source": [
        "df_predict.head()"
      ],
      "metadata": {
        "id": "q9gs--O1g3cv"
      },
      "execution_count": null,
      "outputs": []
    },
    {
      "cell_type": "code",
      "source": [
        "df_predict = df_predict.reindex(columns=['PassengerId','Transported'])"
      ],
      "metadata": {
        "id": "wPpZIXM5g3Z5"
      },
      "execution_count": null,
      "outputs": []
    },
    {
      "cell_type": "code",
      "source": [
        "x_test = x_test.reindex(columns=['PassengerId','Transported'])"
      ],
      "metadata": {
        "id": "bLys4fknanEd"
      },
      "execution_count": null,
      "outputs": []
    },
    {
      "cell_type": "code",
      "source": [
        "x_test['Transported'] = x_test['Transported'].astype(int)"
      ],
      "metadata": {
        "id": "Fn4uUQqhn6Hk"
      },
      "execution_count": null,
      "outputs": []
    },
    {
      "cell_type": "code",
      "source": [
        "for i in x_test['Transported']:\n",
        "    if i == 0:\n",
        "        x_test['Transported'].replace(0,False)\n",
        "    elif i == 1:\n",
        "        x_test['Transported'].replace(1,True)\n",
        "    \n",
        "    x_test['Transported'] = x_test['Transported'].astype(bool)"
      ],
      "metadata": {
        "id": "GxuYeEDAcIzd"
      },
      "execution_count": null,
      "outputs": []
    },
    {
      "cell_type": "code",
      "source": [
        "x_test.head()"
      ],
      "metadata": {
        "id": "uLaPF1oac1SU"
      },
      "execution_count": null,
      "outputs": []
    },
    {
      "cell_type": "code",
      "source": [
        "x_test.to_csv('submission.csv')"
      ],
      "metadata": {
        "id": "MUtvt-widyNK"
      },
      "execution_count": null,
      "outputs": []
    },
    {
      "cell_type": "code",
      "source": [],
      "metadata": {
        "id": "7PwAHS3Yi_1M"
      },
      "execution_count": null,
      "outputs": []
    }
  ]
}